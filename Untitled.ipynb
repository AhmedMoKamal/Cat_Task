{
 "cells": [
  {
   "cell_type": "code",
   "execution_count": 153,
   "id": "4f8ca3c1-c6d9-4bac-8727-a640edbaad87",
   "metadata": {},
   "outputs": [],
   "source": [
    "import pandas as pd\n",
    "import numpy as np \n",
    "import matplotlib.pyplot as plt\n",
    "import seaborn as sns\n",
    "import warnings"
   ]
  },
  {
   "cell_type": "code",
   "execution_count": 154,
   "id": "10a87303-b093-425b-a8f9-fb90fbda648e",
   "metadata": {},
   "outputs": [],
   "source": [
    "dataframe = pd.read_csv(\"train.csv\")\n",
    "data = dataframe.copy()"
   ]
  },
  {
   "cell_type": "code",
   "execution_count": 155,
   "id": "dbe9cc39-133f-46a2-aca1-21e38745edbf",
   "metadata": {
    "scrolled": true
   },
   "outputs": [
    {
     "data": {
      "text/html": [
       "<div>\n",
       "<style scoped>\n",
       "    .dataframe tbody tr th:only-of-type {\n",
       "        vertical-align: middle;\n",
       "    }\n",
       "\n",
       "    .dataframe tbody tr th {\n",
       "        vertical-align: top;\n",
       "    }\n",
       "\n",
       "    .dataframe thead th {\n",
       "        text-align: right;\n",
       "    }\n",
       "</style>\n",
       "<table border=\"1\" class=\"dataframe\">\n",
       "  <thead>\n",
       "    <tr style=\"text-align: right;\">\n",
       "      <th></th>\n",
       "      <th>ID</th>\n",
       "      <th>Brand</th>\n",
       "      <th>VehicleModel</th>\n",
       "      <th>ManufacturingYear</th>\n",
       "      <th>Type</th>\n",
       "      <th>rating</th>\n",
       "      <th>color</th>\n",
       "      <th>Duty</th>\n",
       "      <th>fuel</th>\n",
       "      <th>CylinderCount</th>\n",
       "      <th>type of gear</th>\n",
       "      <th>capacity</th>\n",
       "      <th>Odometer</th>\n",
       "      <th>#airbags</th>\n",
       "      <th>price</th>\n",
       "    </tr>\n",
       "  </thead>\n",
       "  <tbody>\n",
       "    <tr>\n",
       "      <th>0</th>\n",
       "      <td>2624</td>\n",
       "      <td>NaN</td>\n",
       "      <td>I have the fastest model ever.. yes you got it...</td>\n",
       "      <td>2017</td>\n",
       "      <td>WOOW Sedan</td>\n",
       "      <td>0.0</td>\n",
       "      <td>NaN</td>\n",
       "      <td>I had to pay a substantial $1249 levy on my ne...</td>\n",
       "      <td>Gas</td>\n",
       "      <td>4.0</td>\n",
       "      <td>R</td>\n",
       "      <td>2.5</td>\n",
       "      <td>75492 KM</td>\n",
       "      <td>1008</td>\n",
       "      <td>21012</td>\n",
       "    </tr>\n",
       "    <tr>\n",
       "      <th>1</th>\n",
       "      <td>14392</td>\n",
       "      <td>I love TOYOTA</td>\n",
       "      <td>NaN</td>\n",
       "      <td>NaN</td>\n",
       "      <td>Minivan3</td>\n",
       "      <td>5.0</td>\n",
       "      <td>Metallic</td>\n",
       "      <td>-</td>\n",
       "      <td>Gas</td>\n",
       "      <td>4.0 cyl</td>\n",
       "      <td>R</td>\n",
       "      <td>2.4</td>\n",
       "      <td>220000 KM</td>\n",
       "      <td>-96</td>\n",
       "      <td>11917</td>\n",
       "    </tr>\n",
       "    <tr>\n",
       "      <th>2</th>\n",
       "      <td>9822</td>\n",
       "      <td>hyundai</td>\n",
       "      <td>H1</td>\n",
       "      <td>2009</td>\n",
       "      <td>MINIVAN</td>\n",
       "      <td>0.0</td>\n",
       "      <td>Metallic</td>\n",
       "      <td>1185$</td>\n",
       "      <td>Dies</td>\n",
       "      <td>4.0</td>\n",
       "      <td>R</td>\n",
       "      <td>2.5</td>\n",
       "      <td>TOTAL 50653 km</td>\n",
       "      <td>4 count</td>\n",
       "      <td>22433</td>\n",
       "    </tr>\n",
       "    <tr>\n",
       "      <th>3</th>\n",
       "      <td>17123</td>\n",
       "      <td>opel</td>\n",
       "      <td>Corsa</td>\n",
       "      <td>NaN</td>\n",
       "      <td>Hatchback</td>\n",
       "      <td>5.0</td>\n",
       "      <td>Jet Black</td>\n",
       "      <td>-</td>\n",
       "      <td>NaN</td>\n",
       "      <td>4.0</td>\n",
       "      <td>auto</td>\n",
       "      <td>0</td>\n",
       "      <td>230000 KM</td>\n",
       "      <td>0</td>\n",
       "      <td>5645</td>\n",
       "    </tr>\n",
       "    <tr>\n",
       "      <th>4</th>\n",
       "      <td>11133</td>\n",
       "      <td>subaru</td>\n",
       "      <td>I own Outback.</td>\n",
       "      <td>2007</td>\n",
       "      <td>Hatchback</td>\n",
       "      <td>4.0</td>\n",
       "      <td>Sapphire Blue</td>\n",
       "      <td>-</td>\n",
       "      <td>Gas</td>\n",
       "      <td>4.0</td>\n",
       "      <td>NaN</td>\n",
       "      <td>2.5</td>\n",
       "      <td>131000 KM</td>\n",
       "      <td>4</td>\n",
       "      <td>10976</td>\n",
       "    </tr>\n",
       "    <tr>\n",
       "      <th>...</th>\n",
       "      <td>...</td>\n",
       "      <td>...</td>\n",
       "      <td>...</td>\n",
       "      <td>...</td>\n",
       "      <td>...</td>\n",
       "      <td>...</td>\n",
       "      <td>...</td>\n",
       "      <td>...</td>\n",
       "      <td>...</td>\n",
       "      <td>...</td>\n",
       "      <td>...</td>\n",
       "      <td>...</td>\n",
       "      <td>...</td>\n",
       "      <td>...</td>\n",
       "      <td>...</td>\n",
       "    </tr>\n",
       "    <tr>\n",
       "      <th>6995</th>\n",
       "      <td>7341</td>\n",
       "      <td>Chevrolet</td>\n",
       "      <td>ORLANDO</td>\n",
       "      <td>12years old</td>\n",
       "      <td>jeep</td>\n",
       "      <td>NaN</td>\n",
       "      <td>Gold</td>\n",
       "      <td>642$</td>\n",
       "      <td>Dies</td>\n",
       "      <td>0</td>\n",
       "      <td>gear</td>\n",
       "      <td>2</td>\n",
       "      <td>156802  kilo</td>\n",
       "      <td>4</td>\n",
       "      <td>16894</td>\n",
       "    </tr>\n",
       "    <tr>\n",
       "      <th>6996</th>\n",
       "      <td>5105</td>\n",
       "      <td>BMW</td>\n",
       "      <td>I own X5.</td>\n",
       "      <td>2114</td>\n",
       "      <td>WOOW Jeep</td>\n",
       "      <td>2.0</td>\n",
       "      <td>Pearl White</td>\n",
       "      <td>915$</td>\n",
       "      <td>Dies</td>\n",
       "      <td>6.0</td>\n",
       "      <td>AUTO</td>\n",
       "      <td>3</td>\n",
       "      <td>110715 km</td>\n",
       "      <td>0 bags</td>\n",
       "      <td>16621</td>\n",
       "    </tr>\n",
       "    <tr>\n",
       "      <th>6997</th>\n",
       "      <td>7223</td>\n",
       "      <td>toyota</td>\n",
       "      <td>NaN</td>\n",
       "      <td>12years old</td>\n",
       "      <td>sedan</td>\n",
       "      <td>0.0</td>\n",
       "      <td>NaN</td>\n",
       "      <td>781</td>\n",
       "      <td>Electric Hybrid</td>\n",
       "      <td>4.0</td>\n",
       "      <td>auto</td>\n",
       "      <td>2.5</td>\n",
       "      <td>314373 KM</td>\n",
       "      <td>12</td>\n",
       "      <td>392</td>\n",
       "    </tr>\n",
       "    <tr>\n",
       "      <th>6998</th>\n",
       "      <td>12184</td>\n",
       "      <td>toyota</td>\n",
       "      <td>Camry</td>\n",
       "      <td>2112</td>\n",
       "      <td>sedan</td>\n",
       "      <td>1.0</td>\n",
       "      <td>Metallic</td>\n",
       "      <td>781 pound</td>\n",
       "      <td>Gas</td>\n",
       "      <td>14.0</td>\n",
       "      <td>R</td>\n",
       "      <td>2.5</td>\n",
       "      <td>80000 km</td>\n",
       "      <td>12]</td>\n",
       "      <td>17249</td>\n",
       "    </tr>\n",
       "    <tr>\n",
       "      <th>6999</th>\n",
       "      <td>17637</td>\n",
       "      <td>HYUNDAI is the best</td>\n",
       "      <td>Sonata</td>\n",
       "      <td>12years old</td>\n",
       "      <td>Sedan4</td>\n",
       "      <td>3.0</td>\n",
       "      <td>NaN</td>\n",
       "      <td>642</td>\n",
       "      <td>Gas</td>\n",
       "      <td>4.0 cyl</td>\n",
       "      <td>AUTO</td>\n",
       "      <td>0</td>\n",
       "      <td>131627</td>\n",
       "      <td>4</td>\n",
       "      <td>15035</td>\n",
       "    </tr>\n",
       "  </tbody>\n",
       "</table>\n",
       "<p>7000 rows × 15 columns</p>\n",
       "</div>"
      ],
      "text/plain": [
       "         ID                Brand  \\\n",
       "0      2624                  NaN   \n",
       "1     14392        I love TOYOTA   \n",
       "2      9822              hyundai   \n",
       "3     17123                 opel   \n",
       "4     11133               subaru   \n",
       "...     ...                  ...   \n",
       "6995   7341            Chevrolet   \n",
       "6996   5105                  BMW   \n",
       "6997   7223               toyota   \n",
       "6998  12184               toyota   \n",
       "6999  17637  HYUNDAI is the best   \n",
       "\n",
       "                                           VehicleModel ManufacturingYear  \\\n",
       "0     I have the fastest model ever.. yes you got it...              2017   \n",
       "1                                                   NaN               NaN   \n",
       "2                                                    H1              2009   \n",
       "3                                                 Corsa               NaN   \n",
       "4                                        I own Outback.              2007   \n",
       "...                                                 ...               ...   \n",
       "6995                                            ORLANDO       12years old   \n",
       "6996                                          I own X5.              2114   \n",
       "6997                                                NaN       12years old   \n",
       "6998                                              Camry              2112   \n",
       "6999                                             Sonata       12years old   \n",
       "\n",
       "            Type  rating          color  \\\n",
       "0     WOOW Sedan     0.0            NaN   \n",
       "1       Minivan3     5.0       Metallic   \n",
       "2        MINIVAN     0.0       Metallic   \n",
       "3      Hatchback     5.0      Jet Black   \n",
       "4      Hatchback     4.0  Sapphire Blue   \n",
       "...          ...     ...            ...   \n",
       "6995        jeep     NaN           Gold   \n",
       "6996   WOOW Jeep     2.0    Pearl White   \n",
       "6997       sedan     0.0            NaN   \n",
       "6998       sedan     1.0       Metallic   \n",
       "6999      Sedan4     3.0            NaN   \n",
       "\n",
       "                                                   Duty             fuel  \\\n",
       "0     I had to pay a substantial $1249 levy on my ne...              Gas   \n",
       "1                                                     -              Gas   \n",
       "2                                                 1185$             Dies   \n",
       "3                                                     -              NaN   \n",
       "4                                                     -              Gas   \n",
       "...                                                 ...              ...   \n",
       "6995                                               642$             Dies   \n",
       "6996                                               915$             Dies   \n",
       "6997                                                781  Electric Hybrid   \n",
       "6998                                          781 pound              Gas   \n",
       "6999                                                642              Gas   \n",
       "\n",
       "     CylinderCount type of gear capacity        Odometer #airbags  price  \n",
       "0              4.0            R      2.5        75492 KM     1008  21012  \n",
       "1          4.0 cyl            R      2.4       220000 KM      -96  11917  \n",
       "2              4.0            R      2.5  TOTAL 50653 km  4 count  22433  \n",
       "3              4.0         auto        0       230000 KM      0     5645  \n",
       "4              4.0          NaN      2.5       131000 KM      4    10976  \n",
       "...            ...          ...      ...             ...      ...    ...  \n",
       "6995             0         gear        2    156802  kilo        4  16894  \n",
       "6996           6.0         AUTO        3       110715 km   0 bags  16621  \n",
       "6997           4.0         auto      2.5       314373 KM       12    392  \n",
       "6998          14.0            R      2.5        80000 km      12]  17249  \n",
       "6999       4.0 cyl         AUTO        0          131627        4  15035  \n",
       "\n",
       "[7000 rows x 15 columns]"
      ]
     },
     "execution_count": 155,
     "metadata": {},
     "output_type": "execute_result"
    }
   ],
   "source": [
    "dataframe"
   ]
  },
  {
   "cell_type": "code",
   "execution_count": 156,
   "id": "40b13534-04f4-44c0-adc5-aae1bcf398b9",
   "metadata": {},
   "outputs": [
    {
     "name": "stdout",
     "output_type": "stream",
     "text": [
      "<class 'pandas.core.frame.DataFrame'>\n",
      "RangeIndex: 7000 entries, 0 to 6999\n",
      "Data columns (total 15 columns):\n",
      " #   Column             Non-Null Count  Dtype  \n",
      "---  ------             --------------  -----  \n",
      " 0   ID                 7000 non-null   int64  \n",
      " 1   Brand              6294 non-null   object \n",
      " 2   VehicleModel       6303 non-null   object \n",
      " 3   ManufacturingYear  6305 non-null   object \n",
      " 4   Type               6315 non-null   object \n",
      " 5   rating             6310 non-null   float64\n",
      " 6   color              4876 non-null   object \n",
      " 7   Duty               7000 non-null   object \n",
      " 8   fuel               6304 non-null   object \n",
      " 9   CylinderCount      7000 non-null   object \n",
      " 10  type of gear       6308 non-null   object \n",
      " 11  capacity           7000 non-null   object \n",
      " 12  Odometer           7000 non-null   object \n",
      " 13  #airbags           7000 non-null   object \n",
      " 14  price              7000 non-null   int64  \n",
      "dtypes: float64(1), int64(2), object(12)\n",
      "memory usage: 820.4+ KB\n"
     ]
    }
   ],
   "source": [
    "dataframe.info()"
   ]
  },
  {
   "cell_type": "code",
   "execution_count": 157,
   "id": "f3e951cf-d957-4ace-95ae-f06ead6c1f14",
   "metadata": {},
   "outputs": [
    {
     "data": {
      "text/plain": [
       "ID                      0\n",
       "Brand                 706\n",
       "VehicleModel          697\n",
       "ManufacturingYear     695\n",
       "Type                  685\n",
       "rating                690\n",
       "color                2124\n",
       "Duty                    0\n",
       "fuel                  696\n",
       "CylinderCount           0\n",
       "type of gear          692\n",
       "capacity                0\n",
       "Odometer                0\n",
       "#airbags                0\n",
       "price                   0\n",
       "dtype: int64"
      ]
     },
     "execution_count": 157,
     "metadata": {},
     "output_type": "execute_result"
    }
   ],
   "source": [
    "dataframe.isna().sum()"
   ]
  },
  {
   "cell_type": "code",
   "execution_count": 158,
   "id": "56a552ce-6d2b-4838-a5c6-364735255fa6",
   "metadata": {},
   "outputs": [
    {
     "data": {
      "text/html": [
       "<div>\n",
       "<style scoped>\n",
       "    .dataframe tbody tr th:only-of-type {\n",
       "        vertical-align: middle;\n",
       "    }\n",
       "\n",
       "    .dataframe tbody tr th {\n",
       "        vertical-align: top;\n",
       "    }\n",
       "\n",
       "    .dataframe thead th {\n",
       "        text-align: right;\n",
       "    }\n",
       "</style>\n",
       "<table border=\"1\" class=\"dataframe\">\n",
       "  <thead>\n",
       "    <tr style=\"text-align: right;\">\n",
       "      <th></th>\n",
       "      <th>ID</th>\n",
       "      <th>rating</th>\n",
       "      <th>price</th>\n",
       "    </tr>\n",
       "  </thead>\n",
       "  <tbody>\n",
       "    <tr>\n",
       "      <th>count</th>\n",
       "      <td>7000.000000</td>\n",
       "      <td>6310.000000</td>\n",
       "      <td>7000.000000</td>\n",
       "    </tr>\n",
       "    <tr>\n",
       "      <th>mean</th>\n",
       "      <td>9022.128714</td>\n",
       "      <td>2.559588</td>\n",
       "      <td>14406.866429</td>\n",
       "    </tr>\n",
       "    <tr>\n",
       "      <th>std</th>\n",
       "      <td>5202.316292</td>\n",
       "      <td>1.905482</td>\n",
       "      <td>11747.617978</td>\n",
       "    </tr>\n",
       "    <tr>\n",
       "      <th>min</th>\n",
       "      <td>1.000000</td>\n",
       "      <td>-4.000000</td>\n",
       "      <td>3.000000</td>\n",
       "    </tr>\n",
       "    <tr>\n",
       "      <th>25%</th>\n",
       "      <td>4546.750000</td>\n",
       "      <td>1.000000</td>\n",
       "      <td>5018.000000</td>\n",
       "    </tr>\n",
       "    <tr>\n",
       "      <th>50%</th>\n",
       "      <td>9044.500000</td>\n",
       "      <td>2.000000</td>\n",
       "      <td>12544.000000</td>\n",
       "    </tr>\n",
       "    <tr>\n",
       "      <th>75%</th>\n",
       "      <td>13523.250000</td>\n",
       "      <td>4.000000</td>\n",
       "      <td>20071.000000</td>\n",
       "    </tr>\n",
       "    <tr>\n",
       "      <th>max</th>\n",
       "      <td>18013.000000</td>\n",
       "      <td>10.000000</td>\n",
       "      <td>49889.000000</td>\n",
       "    </tr>\n",
       "  </tbody>\n",
       "</table>\n",
       "</div>"
      ],
      "text/plain": [
       "                 ID       rating         price\n",
       "count   7000.000000  6310.000000   7000.000000\n",
       "mean    9022.128714     2.559588  14406.866429\n",
       "std     5202.316292     1.905482  11747.617978\n",
       "min        1.000000    -4.000000      3.000000\n",
       "25%     4546.750000     1.000000   5018.000000\n",
       "50%     9044.500000     2.000000  12544.000000\n",
       "75%    13523.250000     4.000000  20071.000000\n",
       "max    18013.000000    10.000000  49889.000000"
      ]
     },
     "execution_count": 158,
     "metadata": {},
     "output_type": "execute_result"
    }
   ],
   "source": [
    "dataframe.describe()"
   ]
  },
  {
   "cell_type": "markdown",
   "id": "e602d548-8f9b-43a9-9d05-3df95dfae7b4",
   "metadata": {},
   "source": [
    "WE need to extract some features ! "
   ]
  },
  {
   "cell_type": "code",
   "execution_count": 159,
   "id": "028cd4cd-5cb3-4c4e-9779-12322cf01448",
   "metadata": {},
   "outputs": [
    {
     "data": {
      "text/plain": [
       "array([ 0.,  5.,  4., nan,  2.,  6.,  3.,  8.,  1.,  7., -1., -2., -3.,\n",
       "        9., 10., -4.])"
      ]
     },
     "execution_count": 159,
     "metadata": {},
     "output_type": "execute_result"
    }
   ],
   "source": [
    "dataframe['rating'].unique()"
   ]
  },
  {
   "cell_type": "code",
   "execution_count": 160,
   "id": "2e7059a7-09bc-4116-bc4e-3f7fab376a1d",
   "metadata": {},
   "outputs": [
    {
     "data": {
      "text/plain": [
       "<IntegerArray>\n",
       "[0, 5, 4, <NA>, 2, 6, 3, 8, 1, 7, 9, 10]\n",
       "Length: 12, dtype: Int64"
      ]
     },
     "execution_count": 160,
     "metadata": {},
     "output_type": "execute_result"
    }
   ],
   "source": [
    "#convert the negative values to positive\n",
    "def process_rating(dataframe):\n",
    "    dataframe['rating'] = pd.to_numeric(data['rating'])\n",
    "    dataframe['rating'] = dataframe['rating'].abs().astype('Int64')\n",
    "    return dataframe\n",
    "\n",
    "dataframe = process_rating(dataframe)\n",
    "dataframe['rating'].unique()"
   ]
  },
  {
   "cell_type": "code",
   "execution_count": 161,
   "id": "c423ecba-77c7-4a92-9d63-2d1452634f6e",
   "metadata": {},
   "outputs": [
    {
     "data": {
      "text/plain": [
       "array([nan, 'I love TOYOTA', 'hyundai', 'opel', 'subaru', 'VOLKSWAGEN',\n",
       "       'FORD', 'Bmw', 'jaguar', 'I love HONDA', 'mercedes-benz',\n",
       "       'I love FORD', 'honda', 'HYUNDAI', 'NISSAN', 'toyota',\n",
       "       'volkswagen', 'lexus', 'ford', 'SSANGYONG', 'HONDA', 'Hyundai',\n",
       "       'Toyota', 'BMW', 'MERCEDES-BENZ is the best',\n",
       "       'I love MERCEDES-BENZ', 'SSANGYONG is the best', 'I love SUBARU',\n",
       "       'ssangyong', 'TOYOTA is the best', 'nissan', 'kia', 'DAEWOO',\n",
       "       'SUBARU is the best', 'TOYOTA', 'bmw', 'AUDI', 'CHEVROLET', 'jeep',\n",
       "       'SUBARU', 'MERCEDES-BENZ', 'Mercedes-Benz', 'I love BMW', 'LEXUS',\n",
       "       'I love HYUNDAI', 'NISSAN is the best', 'Opel', 'PORSCHE', 'MAZDA',\n",
       "       'I love NISSAN', 'HYUNDAI is the best', 'chevrolet', 'mitsubishi',\n",
       "       'I love KIA', 'Chevrolet', 'mazda', 'KIA', 'BMW is the best',\n",
       "       'gmc', 'I love LEXUS', 'MITSUBISHI', 'I love MITSUBISHI', 'skoda',\n",
       "       'Lexus', 'Volkswagen', 'SUZUKI', 'Ford', 'JEEP', 'OPEL', 'Honda',\n",
       "       'I love VOLKSWAGEN', 'fiat', 'FORD is the best', 'PEUGEOT',\n",
       "       'VOLKSWAGEN is the best', 'audi', 'Kia', 'I love DODGE', 'mini',\n",
       "       'Mini', 'VAZ', 'Nissan', 'GAZ', 'Ssangyong', 'MINI is the best',\n",
       "       'Cadillac', 'I love OPEL', 'FIAT is the best', 'Dodge', 'uaz',\n",
       "       'seat', 'ROVER', 'I love CHEVROLET', 'HONDA is the best',\n",
       "       'I love SUZUKI', 'OPEL is the best', 'Peugeot', 'I love MAZDA',\n",
       "       'chrysler', 'Mitsubishi', 'AUDI is the best', 'SKODA',\n",
       "       'LAND ROVER', 'KIA is the best', 'CHEVROLET is the best',\n",
       "       'I love VAZ', 'CADILLAC', 'INFINITI is the best', 'I love PORSCHE',\n",
       "       'LEXUS is the best', 'dodge', 'I love AUDI', 'Jeep', 'სხვა',\n",
       "       'MITSUBISHI is the best', 'Porsche', 'alfa romeo', 'Subaru',\n",
       "       'MAZDA is the best', 'I love SSANGYONG', 'Mazda', 'suzuki', 'FIAT',\n",
       "       'daewoo', 'Audi', 'RENAULT', 'I love MINI', 'DODGE', 'greatwall',\n",
       "       'Buick', 'porsche', 'JEEP is the best', 'VOLVO', 'LINCOLN',\n",
       "       'Isuzu', 'DODGE is the best', 'I love FIAT', 'Scion', 'UAZ',\n",
       "       'SUZUKI is the best', 'buick', 'RENAULT is the best', 'scion',\n",
       "       'I love DAEWOO', 'JAGUAR is the best', 'Renault', 'lincoln',\n",
       "       'I love VOLVO', 'Volvo', 'SCION', 'volvo', 'ROLLS-ROYCE', 'Daewoo',\n",
       "       'DAEWOO is the best', 'Fiat', 'I love CITROEN', 'renault',\n",
       "       'PONTIAC', 'acura', 'DAIHATSU', 'LAND ROVER is the best',\n",
       "       'INFINITI', 'UAZ is the best', 'moskvich', 'GMC', 'land rover',\n",
       "       'BUICK', 'I love JEEP', 'I love SKODA', 'MINI', 'vaz', 'Suzuki',\n",
       "       'I love CADILLAC', 'infiniti', 'I love GAZ', 'JAGUAR', 'Mercury',\n",
       "       'Maserati', 'citroen', 'I love LAND ROVER', 'peugeot',\n",
       "       'DAIHATSU is the best', 'mercury', 'gaz', 'daihatsu', 'Jaguar'],\n",
       "      dtype=object)"
      ]
     },
     "execution_count": 161,
     "metadata": {},
     "output_type": "execute_result"
    }
   ],
   "source": [
    "dataframe['Brand'].unique()"
   ]
  },
  {
   "cell_type": "code",
   "execution_count": 162,
   "id": "497c0c06-5eea-4e70-8da8-f84b18ca7a13",
   "metadata": {},
   "outputs": [
    {
     "data": {
      "text/plain": [
       "array([None, 'Toyota', 'Hyundai', 'Opel', 'Subaru', 'Volkswagen', 'Ford',\n",
       "       'Bmw', 'Jaguar', 'Honda', 'Mercedes-benz', 'Nissan', 'Lexus',\n",
       "       'Ssangyong', 'Kia', 'Daewoo', 'Audi', 'Chevrolet', 'Jeep',\n",
       "       'Porsche', 'Mazda', 'Mitsubishi', 'Gmc', 'Skoda', 'Suzuki', 'Fiat',\n",
       "       'Peugeot', 'Dodge', 'Mini', 'Vaz', 'Gaz', 'Cadillac', 'Uaz',\n",
       "       'Seat', 'Rover', 'Chrysler', 'Land rover', 'Infiniti', 'სხვა',\n",
       "       'Alfa romeo', 'Renault', 'Greatwall', 'Buick', 'Volvo', 'Lincoln',\n",
       "       'Isuzu', 'Scion', 'Rolls-royce', 'Citroen', 'Pontiac', 'Acura',\n",
       "       'Daihatsu', 'Moskvich', 'Mercury', 'Maserati'], dtype=object)"
      ]
     },
     "execution_count": 162,
     "metadata": {},
     "output_type": "execute_result"
    }
   ],
   "source": [
    "import re\n",
    "def process_brand(dataframe): \n",
    "    def extract_brand(sentence):\n",
    "        if not isinstance(sentence, str):\n",
    "            return None\n",
    "        \n",
    "        patterns = [\n",
    "            r\"I love\\s+(.*?)(?:\\.|,|$)\", \n",
    "            r\"^(.*?)(?:\\s+is the best)\" \n",
    "        ]\n",
    "        \n",
    "        for pattern in patterns:\n",
    "            match = re.search(pattern, sentence)\n",
    "            if match:\n",
    "                return match.group(1)  \n",
    "        return sentence\n",
    "    \n",
    "    dataframe['Brand'] = dataframe['Brand'].apply(lambda x: extract_brand(x)).str.capitalize()\n",
    "    \n",
    "    return dataframe\n",
    "dataframe = process_brand(dataframe)\n",
    "dataframe['Brand'].unique()"
   ]
  },
  {
   "cell_type": "code",
   "execution_count": 163,
   "id": "c90ed902-e8c7-4244-9e9e-b97e4dbdceff",
   "metadata": {},
   "outputs": [
    {
     "data": {
      "text/plain": [
       "VehicleModel\n",
       "I have the fastest model ever.. yes you got it right it's Sonata                68\n",
       "I own Camry.                                                                    65\n",
       "my model which is Prius is the best                                             61\n",
       "my model which is Sonata is the best                                            58\n",
       "I have the fastest model ever.. yes you got it right it's Prius                 58\n",
       "                                                                                ..\n",
       "I own Touareg.                                                                   1\n",
       "my model which is S 500 is the best                                              1\n",
       "my model which is XV LIMITED is the best                                         1\n",
       "I have the fastest model ever.. yes you got it right it's CLK 200 Kompressor     1\n",
       "I own X-type.                                                                    1\n",
       "Name: count, Length: 881, dtype: int64"
      ]
     },
     "execution_count": 163,
     "metadata": {},
     "output_type": "execute_result"
    }
   ],
   "source": [
    "littleSmall = dataframe[dataframe['VehicleModel'].str.len() > 10]\n",
    "littleSmall['VehicleModel'].value_counts()"
   ]
  },
  {
   "cell_type": "code",
   "execution_count": 164,
   "id": "f6bf443a-f2a1-4a4b-9a8a-d1e5df330db7",
   "metadata": {},
   "outputs": [],
   "source": [
    "def process_vehicle_model(dataframe):\n",
    "    def extract_model(sentence):\n",
    "        if not isinstance(sentence, str):\n",
    "            return None\n",
    "        \n",
    "        patterns = [\n",
    "            r\"\\b(?:it's\\s+)(\\S.*)\",          \n",
    "            r\"\\bis\\s+(.*?)\\s+is\\b\",          \n",
    "            r\"\\bI own\\s+(.*)\\b\"              \n",
    "        ]\n",
    "        \n",
    "        for pattern in patterns:\n",
    "            match = re.search(pattern, sentence)\n",
    "            if match:\n",
    "                return match.group(1) or match.group(2) or match.group(3)\n",
    "        return sentence\n",
    "    \n",
    "    dataframe['VehicleModel'] = (dataframe['VehicleModel'].apply(lambda x: extract_model(x)).astype(str).str.capitalize().replace(['None', 'nan'], np.nan))\n",
    "    return dataframe\n",
    "    \n",
    "dataframe = process_vehicle_model(dataframe)"
   ]
  },
  {
   "cell_type": "code",
   "execution_count": 165,
   "id": "976e6f33-c3aa-471c-8a3e-bf6411befaa9",
   "metadata": {},
   "outputs": [
    {
     "data": {
      "text/plain": [
       "VehicleModel\n",
       "Prius                 378\n",
       "Sonata                359\n",
       "Camry                 313\n",
       "Elantra               312\n",
       "Fit                   164\n",
       "                     ... \n",
       "Omega c                 1\n",
       "Tc                      1\n",
       "Captur qm3 samsung      1\n",
       "Combo 1700              1\n",
       "X-type                  1\n",
       "Name: count, Length: 770, dtype: int64"
      ]
     },
     "execution_count": 165,
     "metadata": {},
     "output_type": "execute_result"
    }
   ],
   "source": [
    "dataframe['VehicleModel'].value_counts()"
   ]
  },
  {
   "cell_type": "code",
   "execution_count": 166,
   "id": "e5de1863-7e52-4b07-9201-1a87d265e3aa",
   "metadata": {
    "scrolled": true
   },
   "outputs": [
    {
     "data": {
      "text/plain": [
       "array(['2017', nan, '2009', '2007', '3010', '1999', '2012', '2011',\n",
       "       '2014', '2015', '2006', '2105', '2013,', '2010', '2017{',\n",
       "       '1-1-2003', '2016', '1998', '2018', '2008', '2015+', '2012\"',\n",
       "       '2013', '2111', '1-1-2020', '2005', '2017*', '2004', '2016.',\n",
       "       '2015#', '1910', '2017&', '1914', '1-1-2013', '3009', '2009&',\n",
       "       '2018}', '14years old', '1-1-2014', '2001', '2015`', '2112',\n",
       "       '1997', '2014@', '1917', '2014+', '2013*', '1-1-2011', '1-1-2008',\n",
       "       '2012,', '2003', '1-1-2007', '15years old', '1916', '1-1-2012',\n",
       "       '1912', '2010~', '2020', '2002>', '2110', '2005>', '2115',\n",
       "       '1-1-2005', '2009%', '2019', '10years old', '1-1-2002', '2015@',\n",
       "       '3013', '1907', '2010*', '2000', '1996_', '12years old', '2011;',\n",
       "       '2017_', '13years old', '3014', '2017(', '2011,', '11years old',\n",
       "       '7years old', '1-1-2010', '3004', '1996|', '1913', '2014|',\n",
       "       '1-1-2016', '2016[', '1900', \"2009'\", '1902', '2117', '1-1-2009',\n",
       "       '8years old', '2118', '1999[', '1995', '6years old', '2113',\n",
       "       '3012', '2010!', '1915', '2002', '2016+', '2009,', '1-1-1998',\n",
       "       '9years old', '2014(', '1911', '1-1-2000', '2017\"', '2013@',\n",
       "       '2014?', '1-1-2017', '21years old', '2010|', '2116', '2011%',\n",
       "       '2098', '1-1-2001', '2007$', '2014/', '26years old', '1918',\n",
       "       '2114', '3008', '2016?', '2006\\\\', '2011(', '3006', '2014`',\n",
       "       '2001:', '1995/', '2006%', '2015*', '28years old', '2107', '2119',\n",
       "       '1908', '2002=', '2011.', '24years old', '1-1-2015', '1-1-1992',\n",
       "       '2008)', '2099', '20years old', '2013;', '1985', '1909', '3007',\n",
       "       '2003@', '1-1-2004', '2016^', '2016:', \"2003'\", '2103', '2011-',\n",
       "       '2014,', '2016/', '2014.', '2011?', '2015=', '23years old', '1905',\n",
       "       '1996', \"2011'\", '33years old', '1983', '2019}', '2007?', '2008?',\n",
       "       '2007[', '3011', '2013\"', '2104', '2007\"', '1998;', '2012&',\n",
       "       '3015', '2013?', '2010>', '2014&', '2006!', '1995?', '1992',\n",
       "       '2008|', '1904', '1993', '2008[', '2015~', '1-1-2006', '2013/',\n",
       "       '2010=', '2003;', '1-1-2019', '2008@', '2015}', '2018_', '2013=',\n",
       "       '2014\\\\', '2012_', '2013]', '2018#', \"2010'\", '17years old',\n",
       "       '2010&', '2010`', '2000[', '2015|', '2005_', '1994%', '1988',\n",
       "       '3017', '25years old', '1898', '2013+', '2012/', '2015)', '1992:',\n",
       "       '2014$', '1903', '3018', '2998', '2012@', '1-1-2018', '2010@',\n",
       "       '2015>', '2010^', '2013{', '2011{', '2012|', '1-1-1996', '2004$',\n",
       "       '3016', '2008}', '1-1-1997', '2002|', '2010:', '2005=', '2000?',\n",
       "       '2011`', '2012^', '19years old', '16years old', '2012~', '1982',\n",
       "       '2014!', '2007(', '1996#', '2011~', '1994', '29years old', '2108',\n",
       "       '1999<', '2005\\\\', '2005<', '2005]', '18years old', '2010(',\n",
       "       '2012-', '2011<', '2007%', '2014}', '2011)', '2017)', '2010)',\n",
       "       '2000\"', '2016`', \"1997'\", '2012(', '2012+', '2008/', '2012!',\n",
       "       \"2017'\", '2009-', '2009.', '2010+', '5years old', '2014]', '2106',\n",
       "       '3003', '2010[', '1896', '2008%', '2015:', '1-1-1995', '2100',\n",
       "       '2012{', '2016}', '1995\\\\', '2012=', '2007`', '2011_', '2012>',\n",
       "       '2012:', '1997<', '1893', '2015!', '2016\"', '1987', \"2016'\",\n",
       "       '2017?', '1-1-1999', '2011+', '2010$', '2001,', '2019[', '2012]',\n",
       "       '2011}', '1991', '2013|', '2003$', '22years old', '2001)', '1988[',\n",
       "       '2014*', '2008_', '2120', '2019]', '2013\\\\', '2012.', '1990',\n",
       "       '2014<', '2003_', '2000+', '2005:', '2016>', '2010}', '2009(',\n",
       "       '2009)', '2000>', '2001~', '2005+', '2003&', '2017$', '2018|',\n",
       "       '2002\"', '2010.', '2017\\\\', '1995!', '2016&', '2017^', '2015^',\n",
       "       '2000{', '2102', '2004{', '2004.', '2009}', '2017}', '3005',\n",
       "       '2016_', '2005%', '2011|', '2097', '31years old', '1999\\\\',\n",
       "       '2016)', '2015_', '1939', '2013&', '2015[', '2003=', \"2008'\",\n",
       "       '2011\\\\', '2012%', '2008;', '2011#', '2012$', '2015\\\\', '2000|',\n",
       "       '2011*', '2012[', '2004_', \"2013'\", '2013_', '2015.', '2016|',\n",
       "       '2011\"', '2015(', '1919', '1997`', '2014{', '2011^', '2008,',\n",
       "       '2018:', '2001_', '2006-', '2014[', '1-1-1993', '2096', '2007&',\n",
       "       '2007_', '2018^', '2016!', '2015,', '2016*', '2006}', '2101',\n",
       "       '2016%', '2018&', '2019-', '2007|', '2014_', '2999', '2011$',\n",
       "       '2013.', '2018{', '4years old', '2016<', '27years old', '1901',\n",
       "       '2017[', '2015$', '2014^', '2002-', '2016\\\\', '2014-', '1-1-1994',\n",
       "       '2007]', '2018,', '2012`', '2012\\\\', '1995{', '2006+', '2000~',\n",
       "       '2006.', '2001@', '2018~', '2013!', '2012}', '3019', '2003{',\n",
       "       '2007=', '2017=', '2018/', '71years old', '2013)', '3002', '2012?',\n",
       "       '2008-', '2003\"', '2011:', '2008&', '1995`', '2015%', '1986',\n",
       "       '2015-', '2006#', '2017|', '2017/', '2001{', '2005$', '1999_',\n",
       "       '2013#', '2012#', '2013$', '2013[', '2011[', '2014:', '1997=',\n",
       "       '2009*', '2016#', '3000', '2018+', '2002@', '2014\"', '2014#',\n",
       "       '1995*', '2009/', '2109', \"2019'\", '2005`', '2007,', '2016-',\n",
       "       \"2015'\", '2009;', '2008!', '40years old', '1997$', '1999\"',\n",
       "       '2010;', '1992]', '2002.', '1997~', '1920', '2009]', '2089',\n",
       "       '1999|', '2009@', '2003\\\\', '2013(', '1999+', '2018*', '2013-',\n",
       "       '2013%', '2008*', '2992', '2010#', '2018;', '1996^', '2012)',\n",
       "       '2008>', '2015/', '2011&', \"2002'\", '2003<', '2016{', '3001',\n",
       "       '2009|', '2000%', '2003#', '2018@', '2013>', '2017<', '1984',\n",
       "       '2017.', '2012<', '2013~', '2017;', '2018-', '2001`', '1906',\n",
       "       '2093', '1995.', \"2006'\", '2007}', \"2012'\", '2002$', '1978',\n",
       "       '2008^', '2010{', '2004(', '2007!', \"2018'\", '2011=', '2016;',\n",
       "       '2005;', '1998<', '2000-', '2005)', '2007*', '2010<', '2997',\n",
       "       '2016@', '1895', '2008#', '1992$', '2015{', '2015]', '2003)',\n",
       "       '2011]', '2019`', '2002\\\\', '1998)'], dtype=object)"
      ]
     },
     "execution_count": 166,
     "metadata": {},
     "output_type": "execute_result"
    }
   ],
   "source": [
    "dataframe['ManufacturingYear'].unique()"
   ]
  },
  {
   "cell_type": "code",
   "execution_count": 167,
   "id": "cb3458f1-d965-477f-be11-546c8fb8dd2b",
   "metadata": {},
   "outputs": [],
   "source": [
    "def process_manufacturing_year(dataframe):\n",
    "    def extract_year(sentence):\n",
    "        match = re.search(r\"\\b\\d{4}\\b\", sentence)\n",
    "        if match:\n",
    "            return int(match.group(0))\n",
    "\n",
    "        match = re.search(r'(\\d+)\\s*years\\s*old', sentence)\n",
    "        if match:\n",
    "            return 2024 - int(match.group(1))\n",
    "\n",
    "        return None\n",
    "\n",
    "    dataframe['ManufacturingYear'] = dataframe['ManufacturingYear'].astype(str)\n",
    "    dataframe['ManufacturingYear'] = dataframe['ManufacturingYear'].map(extract_year)\n",
    "    \n",
    "    return dataframe\n",
    "\n",
    "dataframe = process_manufacturing_year(dataframe)"
   ]
  },
  {
   "cell_type": "code",
   "execution_count": 168,
   "id": "f806cc05-a17b-4931-8083-52e48a58b094",
   "metadata": {},
   "outputs": [
    {
     "data": {
      "text/plain": [
       "ManufacturingYear\n",
       "2012     429\n",
       "2014     425\n",
       "2013     398\n",
       "2011     349\n",
       "2010     317\n",
       "        ... \n",
       "2008|      1\n",
       "2011*      1\n",
       "2005>      1\n",
       "2004_      1\n",
       "1998)      1\n",
       "Name: count, Length: 555, dtype: int64"
      ]
     },
     "execution_count": 168,
     "metadata": {},
     "output_type": "execute_result"
    }
   ],
   "source": [
    "data['ManufacturingYear'].value_counts()"
   ]
  },
  {
   "cell_type": "code",
   "execution_count": 169,
   "id": "efc9825a-e771-4c29-ba44-4a4e06c0f12f",
   "metadata": {},
   "outputs": [
    {
     "data": {
      "text/plain": [
       "array(['Gas', 'Dies', nan, 'Electric Hybrid', 'other', 'Natural Gas',\n",
       "       'hyb', 'others'], dtype=object)"
      ]
     },
     "execution_count": 169,
     "metadata": {},
     "output_type": "execute_result"
    }
   ],
   "source": [
    "dataframe['fuel'].unique()"
   ]
  },
  {
   "cell_type": "code",
   "execution_count": 170,
   "id": "8ea38b32-9ff7-4547-8eb4-738495b40078",
   "metadata": {},
   "outputs": [
    {
     "data": {
      "text/plain": [
       "array(['Gas', 'Dies', nan, 'Electric Hybrid', 'other', 'Natural Gas',\n",
       "       'hyb', 'others'], dtype=object)"
      ]
     },
     "execution_count": 170,
     "metadata": {},
     "output_type": "execute_result"
    }
   ],
   "source": [
    "def process_fuel(dataframe):\n",
    "    dataframe['fuel'] = dataframe['fuel'].replace(['others'], 'other')\n",
    "    dataframe['fuel'] = dataframe['fuel'].replace(['Electric Hybrid', 'hyb'], 'Hybrid')\n",
    "    return data\n",
    "dataframe = process_fuel(dataframe)\n",
    "dataframe['fuel'].unique()"
   ]
  },
  {
   "cell_type": "code",
   "execution_count": 171,
   "id": "067c47e8-d691-472e-a429-a1cb51115b7c",
   "metadata": {},
   "outputs": [
    {
     "data": {
      "text/plain": [
       "array(['WOOW Sedan', 'Minivan3', 'MINIVAN', 'Hatchback', 'sedan', 'SEDAN',\n",
       "       'Pickup3', 'jeep', 'Minivan', 'HATCHBACK', 'minivan', 'hatchback',\n",
       "       'JEEP', 'microbus', nan, 'Jeep1', 'Sedan0', 'Coupe', 'Sedan3',\n",
       "       'Hatchback3', 'Sedan', 'Jeep0', 'WOOW Hatchback', 'WOOW Jeep',\n",
       "       'Hatchback1', 'WOOW Coupe', 'UNIVERSAL', 'Hatchback2', 'Jeep2',\n",
       "       'Hatchback4', 'Sedan4', 'Sedan1', 'Jeep', 'WOOW Minivan', 'Jeep4',\n",
       "       'Hatchback0', 'Goods Wagon', 'universal', 'WOOW Goods wagon',\n",
       "       'MICROBUS', 'Minivan0', 'Coupe1', 'goods wagon', 'pickup', 'Jeep3',\n",
       "       'Sedan2', 'coupe', 'Pickup1', 'COUPE', 'CABRIOLET', 'Universal0',\n",
       "       'Microbus', 'WOOW Universal', 'Goods wagon1', 'WOOW Microbus',\n",
       "       'Minivan2', 'GOODS WAGON', 'cabriolet', 'Goods wagon0', 'Coupe4',\n",
       "       'Universal', 'Goods wagon2', 'Microbus4', 'Coupe3', 'Goods wagon4',\n",
       "       'Limousine', 'PICKUP', 'Microbus0', 'Coupe0', 'Goods wagon3',\n",
       "       'Universal3', 'Minivan1', 'Microbus3', 'Microbus1', 'Universal2',\n",
       "       'Cabriolet1', 'limousine', 'Minivan4', 'Universal4', 'Coupe2',\n",
       "       'Pickup', 'Pickup0'], dtype=object)"
      ]
     },
     "execution_count": 171,
     "metadata": {},
     "output_type": "execute_result"
    }
   ],
   "source": [
    "dataframe['Type'].unique()"
   ]
  },
  {
   "cell_type": "code",
   "execution_count": 172,
   "id": "2f2b1b75-0e8d-4489-a287-772a7e080491",
   "metadata": {},
   "outputs": [],
   "source": [
    "def process_type(dataframe):\n",
    "    def extract_type(sentence):\n",
    "        if not isinstance(sentence, str):\n",
    "            return None\n",
    "        \n",
    "        match = re.search(r\"\\bWOOW\\s+([a-zA-Z\\s]+)\", sentence, re.IGNORECASE)\n",
    "        if match:\n",
    "            return match.group(1).strip().title()\n",
    "        \n",
    "        match = re.search(r\"^([a-zA-Z\\s]+?)(?:\\d+)?$\", sentence, re.IGNORECASE)\n",
    "        if match:\n",
    "            return match.group(1).strip().title()\n",
    "   \n",
    "        return None\n",
    "\n",
    "    dataframe['Type'] = dataframe['Type'].apply(extract_type)\n",
    "    return dataframe\n",
    "\n",
    "dataframe = process_type(dataframe)"
   ]
  },
  {
   "cell_type": "code",
   "execution_count": 173,
   "id": "74c16c14-4b4e-4618-9b2d-03ad93668af8",
   "metadata": {},
   "outputs": [
    {
     "data": {
      "text/plain": [
       "Type\n",
       "Sedan          2907\n",
       "Jeep           1706\n",
       "Hatchback       989\n",
       "Minivan         240\n",
       "Coupe           153\n",
       "Universal       107\n",
       "Microbus        101\n",
       "Goods Wagon      87\n",
       "Pickup           14\n",
       "Cabriolet         9\n",
       "Limousine         2\n",
       "Name: count, dtype: int64"
      ]
     },
     "execution_count": 173,
     "metadata": {},
     "output_type": "execute_result"
    }
   ],
   "source": [
    "dataframe['Type'].value_counts()"
   ]
  },
  {
   "cell_type": "code",
   "execution_count": 174,
   "id": "fad31321-9cd6-4ef0-bc67-731322c191e3",
   "metadata": {
    "scrolled": true
   },
   "outputs": [
    {
     "data": {
      "text/plain": [
       "array(['I had to pay a substantial $1249 levy on my new car purchase.',\n",
       "       '-', '1185$', ..., '2909$',\n",
       "       'The car levy amounted is 893 per vehicle.', '965'], dtype=object)"
      ]
     },
     "execution_count": 174,
     "metadata": {},
     "output_type": "execute_result"
    }
   ],
   "source": [
    "dataframe['Duty'].unique()"
   ]
  },
  {
   "cell_type": "code",
   "execution_count": 175,
   "id": "2b7010fd-8a8d-4ecf-a705-8cd61915d4ea",
   "metadata": {},
   "outputs": [],
   "source": [
    "def process_duty(dataframe):\n",
    "    def extract_duty(sentence):\n",
    "        if not isinstance(sentence, str) or sentence.strip() in ['-', '', 'nan']:\n",
    "            return 0 \n",
    "        \n",
    "        match = re.search(r\"\\d+\", sentence)\n",
    "        if match:\n",
    "            return int(match.group(0))  \n",
    "        \n",
    "        return 0\n",
    "\n",
    "    dataframe['Duty'] = dataframe['Duty'].astype(str).apply(extract_duty)\n",
    "    return dataframe\n",
    "dataframe = process_duty(dataframe)\n"
   ]
  },
  {
   "cell_type": "code",
   "execution_count": 176,
   "id": "72cbe9d5-c562-4814-9a33-21ed63e2f843",
   "metadata": {},
   "outputs": [
    {
     "data": {
      "text/plain": [
       "Duty\n",
       "0       2578\n",
       "765      147\n",
       "640      132\n",
       "891      121\n",
       "639      106\n",
       "        ... \n",
       "1413       1\n",
       "682        1\n",
       "9362       1\n",
       "4283       1\n",
       "965        1\n",
       "Name: count, Length: 561, dtype: int64"
      ]
     },
     "execution_count": 176,
     "metadata": {},
     "output_type": "execute_result"
    }
   ],
   "source": [
    "dataframe['Duty'].value_counts()"
   ]
  },
  {
   "cell_type": "code",
   "execution_count": 177,
   "id": "02f4c774-97e5-40f7-a957-25750661bb0c",
   "metadata": {},
   "outputs": [
    {
     "data": {
      "text/plain": [
       "array(['75492 KM', '220000 KM', 'TOTAL 50653 km', ..., '156802  kilo',\n",
       "       '314373 KM', '131627'], dtype=object)"
      ]
     },
     "execution_count": 177,
     "metadata": {},
     "output_type": "execute_result"
    }
   ],
   "source": [
    "dataframe['Odometer'].unique()"
   ]
  },
  {
   "cell_type": "code",
   "execution_count": 178,
   "id": "e44efb57-d81c-435f-bfce-34c571987644",
   "metadata": {},
   "outputs": [
    {
     "data": {
      "text/plain": [
       "Odometer\n",
       "0 km                79\n",
       "0  kilo             52\n",
       "0 KM                48\n",
       "0                   30\n",
       "TOTAL 0 km          30\n",
       "                    ..\n",
       "88900                1\n",
       "16500                1\n",
       "224643 KM            1\n",
       "64274  kilometer     1\n",
       "131627               1\n",
       "Name: count, Length: 4964, dtype: int64"
      ]
     },
     "execution_count": 178,
     "metadata": {},
     "output_type": "execute_result"
    }
   ],
   "source": [
    "dataframe['Odometer'].value_counts()"
   ]
  },
  {
   "cell_type": "code",
   "execution_count": 179,
   "id": "98973431-4f9d-40ab-88a3-79c9b9233e62",
   "metadata": {},
   "outputs": [],
   "source": [
    "def process_odometer(dataframe):\n",
    "    def extract_odometer(sentence):\n",
    "        pattern = r\"\\d+\" \n",
    "        match = re.search(pattern, sentence)\n",
    "        if match:\n",
    "            return match.group(0)\n",
    "        return None\n",
    "\n",
    "    dataframe['Odometer'] = dataframe['Odometer'].apply(extract_odometer)\n",
    "    dataframe['Odometer'] = pd.to_numeric(dataframe['Odometer'])  \n",
    "    return dataframe\n",
    "\n",
    "dataframe = process_odometer(dataframe)"
   ]
  },
  {
   "cell_type": "code",
   "execution_count": 180,
   "id": "ba52f01a-3b09-45c8-b28b-25eeb9c4f728",
   "metadata": {},
   "outputs": [
    {
     "data": {
      "text/plain": [
       "Odometer\n",
       "0         257\n",
       "200000     63\n",
       "150000     63\n",
       "160000     42\n",
       "100000     42\n",
       "         ... \n",
       "326612      1\n",
       "41203       1\n",
       "181727      1\n",
       "224062      1\n",
       "131627      1\n",
       "Name: count, Length: 3511, dtype: int64"
      ]
     },
     "execution_count": 180,
     "metadata": {},
     "output_type": "execute_result"
    }
   ],
   "source": [
    "dataframe['Odometer'].value_counts()"
   ]
  },
  {
   "cell_type": "code",
   "execution_count": 181,
   "id": "18f96736-471f-4694-8965-d5139d8581e4",
   "metadata": {},
   "outputs": [
    {
     "data": {
      "text/plain": [
       "capacity\n",
       "2            1261\n",
       "2.5           765\n",
       "0             714\n",
       "1.8           609\n",
       "1.6           503\n",
       "             ... \n",
       "0.8 Turbo       1\n",
       "6.7             1\n",
       "0.3             1\n",
       "5.4 Turbo       1\n",
       "0.5             1\n",
       "Name: count, Length: 87, dtype: int64"
      ]
     },
     "execution_count": 181,
     "metadata": {},
     "output_type": "execute_result"
    }
   ],
   "source": [
    "dataframe['capacity'].value_counts()"
   ]
  },
  {
   "cell_type": "code",
   "execution_count": 182,
   "id": "3dd2fbc0-6e8e-4b3e-ac13-de806d7362f5",
   "metadata": {},
   "outputs": [],
   "source": [
    "def process_capacity_and_turbo(dataframe):\n",
    "    dataframe['turbo'] = dataframe['capacity'].apply(lambda x: 1 if \"Turbo\" in str(x) else 0)\n",
    "    dataframe['capacity'] = dataframe['capacity'].str.replace(\" Turbo\", \"\", regex=False).astype(float)\n",
    "    return data\n",
    "\n",
    "dataframe = process_capacity_and_turbo(dataframe)"
   ]
  },
  {
   "cell_type": "code",
   "execution_count": 183,
   "id": "0721bed9-6111-4cde-9889-555d953f7d62",
   "metadata": {},
   "outputs": [
    {
     "data": {
      "text/plain": [
       "array([2.5, 2.4, 0. , 2. , 5. , 3. , 1.3, 1.5, 1.6, 1.8, 3.5, 2.7, 3.3,\n",
       "       1.7, 2.2, 4. , 1.4, 4.8, 1.2, 2.3, 4.7, 2.8, 3.2, 5.5, 6.2, 4.6,\n",
       "       3.7, 1. , 1.9, 3.6, 4.4, 2.6, 0.6, 6.3, 3.8, 5.7, 4.5, 5.9, 0.3,\n",
       "       4.2, 0.4, 0.1, 0.2, 0.8, 2.9, 6.7, 2.1, 0.7, 5.4, 3.4, 5.3, 4.3,\n",
       "       0.9, 5.6, 5.2, 1.1, 0.5])"
      ]
     },
     "execution_count": 183,
     "metadata": {},
     "output_type": "execute_result"
    }
   ],
   "source": [
    "dataframe['capacity'].unique()"
   ]
  },
  {
   "cell_type": "code",
   "execution_count": 184,
   "id": "d62cd67d-98bd-46c5-9ab2-210c157434f2",
   "metadata": {},
   "outputs": [
    {
     "data": {
      "text/plain": [
       "array(['4.0', '4.0 cyl', '8.0', '8.0 cyl', '6.0 cyl', '6.0', '14.0', '0',\n",
       "       '5.0', '16.0', '18.0', '3.0', '3.0 cyl', '15.0', '10.0', '11.0',\n",
       "       '2.0 cyl', '5.0 cyl', '9.0', '10.0 cyl', '1.0', '12.0 cyl', '2.0',\n",
       "       '16.0 cyl', '13.0', '1.0 cyl', '12.0', '7.0'], dtype=object)"
      ]
     },
     "execution_count": 184,
     "metadata": {},
     "output_type": "execute_result"
    }
   ],
   "source": [
    "dataframe['CylinderCount'].unique()"
   ]
  },
  {
   "cell_type": "code",
   "execution_count": 185,
   "id": "56bbead9-b1af-4703-92c1-6fbdb6469a5d",
   "metadata": {},
   "outputs": [],
   "source": [
    "def process_cylinder(dataframe):\n",
    "    def extract_Cylinder(sentence):\n",
    "        if sentence == '0':\n",
    "            return None \n",
    "        pattern = r\"\\d+\" \n",
    "        match = re.search(pattern, sentence)\n",
    "\n",
    "        if match:\n",
    "            return int(match.group(0))\n",
    "        return None \n",
    "\n",
    "    dataframe['CylinderCount'] = dataframe['CylinderCount'].apply(extract_Cylinder).astype('Int64')\n",
    "    return dataframe\n",
    "\n",
    "dataframe = process_cylinder(dataframe)"
   ]
  },
  {
   "cell_type": "code",
   "execution_count": 186,
   "id": "e40d04c0-55c8-41d3-8e6b-bf2f07d6b785",
   "metadata": {},
   "outputs": [
    {
     "data": {
      "text/plain": [
       "<IntegerArray>\n",
       "[4, 8, 6, 14, <NA>, 5, 16, 18, 3, 15, 10, 11, 2, 9, 1, 12, 13, 7]\n",
       "Length: 18, dtype: Int64"
      ]
     },
     "execution_count": 186,
     "metadata": {},
     "output_type": "execute_result"
    }
   ],
   "source": [
    "dataframe['CylinderCount'].unique()"
   ]
  },
  {
   "cell_type": "code",
   "execution_count": 187,
   "id": "4ce068a9-4fcd-4986-84ca-8f82d952b91a",
   "metadata": {},
   "outputs": [
    {
     "data": {
      "text/plain": [
       "array(['R', 'auto', nan, 'manual', 'others', 'MANUAL', 'AUTO', 'gear'],\n",
       "      dtype=object)"
      ]
     },
     "execution_count": 187,
     "metadata": {},
     "output_type": "execute_result"
    }
   ],
   "source": [
    "dataframe['type of gear'].unique()"
   ]
  },
  {
   "cell_type": "code",
   "execution_count": 188,
   "id": "154a16b6-b417-4a9f-b768-486bd7c9918b",
   "metadata": {},
   "outputs": [],
   "source": [
    "def process_gear_type(dataframe):\n",
    "    dataframe['type of gear'] = dataframe['type of gear'].str.capitalize()\n",
    "    return dataframe\n",
    "dataframe = process_gear_type(dataframe)"
   ]
  },
  {
   "cell_type": "code",
   "execution_count": 189,
   "id": "8f7ea3b6-7f53-4015-a282-28562a173ba3",
   "metadata": {},
   "outputs": [
    {
     "data": {
      "text/plain": [
       "array(['R', 'Auto', nan, 'Manual', 'Others', 'Gear'], dtype=object)"
      ]
     },
     "execution_count": 189,
     "metadata": {},
     "output_type": "execute_result"
    }
   ],
   "source": [
    "dataframe['type of gear'].unique()"
   ]
  },
  {
   "cell_type": "code",
   "execution_count": 190,
   "id": "134fc718-c596-42e9-b611-549c7aafd5a4",
   "metadata": {},
   "outputs": [],
   "source": [
    "dataframe = dataframe.rename(columns={'#airbags': 'Air_bag'})"
   ]
  },
  {
   "cell_type": "code",
   "execution_count": 191,
   "id": "f085bb02-8caa-454b-a81d-b599361c6407",
   "metadata": {},
   "outputs": [
    {
     "data": {
      "text/plain": [
       "array(['1008', '-96', '4 count', '0  ', '4  ', '12', '6 count', '8', '4',\n",
       "       '12,', '6~', '106', '6', '2', '8 bags', '12<', '0',\n",
       "       'ONLY 10 AIRBAG', '12 count', 'ONLY 4 AIRBAG', '1012', '10',\n",
       "       '12 bags', '4 bags', 'ONLY 8 AIRBAG', '5', '8 count',\n",
       "       'ONLY 0 AIRBAG', '12/', 'ONLY 6 AIRBAG', '12)', '-100', '8=',\n",
       "       'ONLY 12 AIRBAG', '12  ', '108', '4<', '-94', '12|', '6 bags',\n",
       "       '2 count', '12`', '4]', '8$', '-88', '10 count', '6  ', '12>',\n",
       "       '112', '6(', '11', '110', '4@', '4&', '0 count', '4{', '4#', '104',\n",
       "       '1005', '12~', '4!', '2  ', '5 count', '16 bags', '6?', '1', '-92',\n",
       "       '100', '1004', '9', '14', '4$', '4,', '12!', '8  ', '-90', '12&',\n",
       "       '6/', '1 count', 'ONLY 2 AIRBAG', '0~', \"8'\", '2 bags', '4[',\n",
       "       '10 bags', '8&', '0 bags', '12#', \"4'\", '2<', '0#', \"0'\", '13',\n",
       "       '2(', '2*', '4\"', '4(', '0-', '8:', '2,', '8@', 'ONLY 5 AIRBAG',\n",
       "       '-98', '4_', '0\"', '0[', '10  ', '7', '12}', '1002', '6\"', '6_',\n",
       "       '6:', '4;', '1000', '2:', '12$', '4`', '8(', '7  ', '12+', '10+',\n",
       "       '0}', '12;', '4|', '16', '10^', '12@', '4:', '6{', '0^',\n",
       "       'ONLY 9 AIRBAG', '8#', '105', '4+', '12_', '0|', '12.', '0)', '0;',\n",
       "       '1010', '12]', 'ONLY 11 AIRBAG', '1007', \"12'\", '0>', '1<', '12%',\n",
       "       '6=', '8[', '116', '9  ', '4=', '0,', '12(', '11 count', '0{',\n",
       "       '14  ', '0_', '4-', '5 bags', '0%', '12:', '0(', '10_', '8}', '4.',\n",
       "       '8/', '6*', '2{', '12{', '0.', '8-', '6-', '0]', '4>', '7(', '14;',\n",
       "       '10%', '3', '10,', '1 bags', '10|', '10@', '5  ', '7 count', '4^',\n",
       "       '102', '4/', '-99', '9]', '10&', 'ONLY 16 AIRBAG', '12=', '0*',\n",
       "       '4~', '6)', '1  ', '3/', '12\\\\', '16 count', '6+', '12*', '1006',\n",
       "       '0`', '10;', '10$', '8\"', '0!', '6]', '2~', '8\\\\', '9 count',\n",
       "       'ONLY 7 AIRBAG', '4}', '10-', '12\"', '7|', '4?', '12?', '2|', '8.',\n",
       "       '5\\\\', 'ONLY 1 AIRBAG', '16(', '2>', '2\\\\', '0+', '12-', '2-',\n",
       "       '4*', '4\\\\', '1016', '0:', '8!', \"7'\", '4)', '0=', '12^', '14:',\n",
       "       '8<', '2/', '3 bags', 'ONLY 3 AIRBAG', '6^', '2\"', '2_', '1%',\n",
       "       '1&', '16  ', '1~', '0@', '0$', '9[', '6&', '6<', '2$', '10[',\n",
       "       '0/', '1_', '7 bags', '8;', '9 bags', '15  ', '101', '4%', '12[',\n",
       "       '1{', \"10'\", '8]', '6%', '8~', '6.', '8%', '8`', '2[', '8,', '6;',\n",
       "       '3:', '111', '0<', '2%', '3  ', '8*', '-97', '2=', '9?', '5]',\n",
       "       '6,', '6}', '5,', '10#', '6@', '6\\\\', '6$', '2+', '10(', '11  ',\n",
       "       '2;', '11[', '0?', '1]', '6`', \"6'\", '107', '8|', '8)', '11~',\n",
       "       '9)', '15 count', '8>', '0&', '11$', '5!', '7.', '109', '6[',\n",
       "       '10\"', '11 bags', '5$', '-95'], dtype=object)"
      ]
     },
     "execution_count": 191,
     "metadata": {},
     "output_type": "execute_result"
    }
   ],
   "source": [
    "dataframe['Air_bag'].unique()"
   ]
  },
  {
   "cell_type": "code",
   "execution_count": 192,
   "id": "a0516203-0b0f-4bf8-aa48-3b0fe2d9f228",
   "metadata": {},
   "outputs": [],
   "source": [
    "def process_bag(dataframe):\n",
    "    def extract_bag(sentence):\n",
    "        pattern = r\"\\d+\" \n",
    "        match = re.search(pattern, sentence)\n",
    "\n",
    "        if match:\n",
    "            number = match.group(0)\n",
    "            if int(number) <= 14:\n",
    "                return int(number)\n",
    "            else:\n",
    "                return None \n",
    "        \n",
    "        return None\n",
    "\n",
    "    dataframe['Air_bag'] = dataframe['Air_bag'].astype(str).apply(extract_bag)\n",
    "    return dataframe\n",
    "    \n",
    "dataframe = process_bag(dataframe)"
   ]
  },
  {
   "cell_type": "code",
   "execution_count": 193,
   "id": "49647eb8-97bf-4690-bac8-56e28fb161a6",
   "metadata": {},
   "outputs": [
    {
     "data": {
      "text/plain": [
       "array([nan,  4.,  0., 12.,  6.,  8.,  2., 10.,  5., 11.,  1.,  9., 14.,\n",
       "       13.,  7.,  3.])"
      ]
     },
     "execution_count": 193,
     "metadata": {},
     "output_type": "execute_result"
    }
   ],
   "source": [
    "dataframe['Air_bag'].unique()"
   ]
  },
  {
   "cell_type": "code",
   "execution_count": 194,
   "id": "6cfb053c-6c9e-4ee6-9087-e379798f61d0",
   "metadata": {},
   "outputs": [
    {
     "data": {
      "text/plain": [
       "Air_bag\n",
       "4.0     1870\n",
       "12.0    1852\n",
       "0.0      774\n",
       "8.0      545\n",
       "6.0      455\n",
       "2.0      357\n",
       "10.0     270\n",
       "5.0       34\n",
       "1.0       33\n",
       "7.0       30\n",
       "9.0       19\n",
       "11.0      16\n",
       "3.0       11\n",
       "14.0       7\n",
       "13.0       2\n",
       "Name: count, dtype: int64"
      ]
     },
     "execution_count": 194,
     "metadata": {},
     "output_type": "execute_result"
    }
   ],
   "source": [
    "dataframe['Air_bag'].value_counts()"
   ]
  },
  {
   "cell_type": "code",
   "execution_count": 195,
   "id": "d96af99d-3137-43d5-b04b-5b3ee647df58",
   "metadata": {},
   "outputs": [],
   "source": [
    "def drop_important_missing(dataframe):\n",
    "    row_drop = data[\n",
    "        (dataframe['Brand'].isna() & dataframe['VehicleModel'].isna() & dataframe['ManufacturingYear'].isna()) |\n",
    "        (dataframe['Brand'].isna() & dataframe['VehicleModel'].isna()) |\n",
    "        (dataframe['VehicleModel'].isna() & dataframe['ManufacturingYear'].isna()) |\n",
    "        (dataframe['VehicleModel'].isna() & dataframe['Type'].isna())].index\n",
    "    \n",
    "    dataframe.drop(index=row_drop, inplace=True)\n",
    "    \n",
    "    return dataframe\n",
    "    \n",
    "dataframe = drop_important_missing(dataframe)"
   ]
  },
  {
   "cell_type": "code",
   "execution_count": 196,
   "id": "868a147f-bbca-4ac6-83ff-f599538900a8",
   "metadata": {
    "scrolled": true
   },
   "outputs": [
    {
     "data": {
      "text/html": [
       "<div>\n",
       "<style scoped>\n",
       "    .dataframe tbody tr th:only-of-type {\n",
       "        vertical-align: middle;\n",
       "    }\n",
       "\n",
       "    .dataframe tbody tr th {\n",
       "        vertical-align: top;\n",
       "    }\n",
       "\n",
       "    .dataframe thead th {\n",
       "        text-align: right;\n",
       "    }\n",
       "</style>\n",
       "<table border=\"1\" class=\"dataframe\">\n",
       "  <thead>\n",
       "    <tr style=\"text-align: right;\">\n",
       "      <th></th>\n",
       "      <th>ID</th>\n",
       "      <th>Brand</th>\n",
       "      <th>VehicleModel</th>\n",
       "      <th>ManufacturingYear</th>\n",
       "      <th>Type</th>\n",
       "      <th>rating</th>\n",
       "      <th>color</th>\n",
       "      <th>Duty</th>\n",
       "      <th>fuel</th>\n",
       "      <th>CylinderCount</th>\n",
       "      <th>type of gear</th>\n",
       "      <th>capacity</th>\n",
       "      <th>Odometer</th>\n",
       "      <th>Air_bag</th>\n",
       "      <th>price</th>\n",
       "      <th>turbo</th>\n",
       "    </tr>\n",
       "  </thead>\n",
       "  <tbody>\n",
       "    <tr>\n",
       "      <th>0</th>\n",
       "      <td>2624</td>\n",
       "      <td>NaN</td>\n",
       "      <td>I have the fastest model ever.. yes you got it...</td>\n",
       "      <td>2017</td>\n",
       "      <td>Sedan</td>\n",
       "      <td>0.0</td>\n",
       "      <td>NaN</td>\n",
       "      <td>1249</td>\n",
       "      <td>Gas</td>\n",
       "      <td>4</td>\n",
       "      <td>R</td>\n",
       "      <td>2.5</td>\n",
       "      <td>75492</td>\n",
       "      <td>NaN</td>\n",
       "      <td>21012</td>\n",
       "      <td>0</td>\n",
       "    </tr>\n",
       "    <tr>\n",
       "      <th>6</th>\n",
       "      <td>605</td>\n",
       "      <td>NaN</td>\n",
       "      <td>I have the fastest model ever.. yes you got it...</td>\n",
       "      <td>1999</td>\n",
       "      <td>Sedan</td>\n",
       "      <td>2.0</td>\n",
       "      <td>Sapphire Blue</td>\n",
       "      <td>0</td>\n",
       "      <td>Gas</td>\n",
       "      <td>4</td>\n",
       "      <td>Manual</td>\n",
       "      <td>2.0</td>\n",
       "      <td>318406</td>\n",
       "      <td>6.0</td>\n",
       "      <td>6586</td>\n",
       "      <td>0</td>\n",
       "    </tr>\n",
       "    <tr>\n",
       "      <th>23</th>\n",
       "      <td>5580</td>\n",
       "      <td>NaN</td>\n",
       "      <td>I own Focus.</td>\n",
       "      <td>2015+</td>\n",
       "      <td>Hatchback</td>\n",
       "      <td>NaN</td>\n",
       "      <td>NaN</td>\n",
       "      <td>0</td>\n",
       "      <td>NaN</td>\n",
       "      <td>4</td>\n",
       "      <td>Manual</td>\n",
       "      <td>2.0</td>\n",
       "      <td>21000</td>\n",
       "      <td>10.0</td>\n",
       "      <td>18189</td>\n",
       "      <td>0</td>\n",
       "    </tr>\n",
       "    <tr>\n",
       "      <th>24</th>\n",
       "      <td>11866</td>\n",
       "      <td>NaN</td>\n",
       "      <td>my model which is Aqua is the best</td>\n",
       "      <td>2012\"</td>\n",
       "      <td>Hatchback</td>\n",
       "      <td>6.0</td>\n",
       "      <td>NaN</td>\n",
       "      <td>503</td>\n",
       "      <td>NaN</td>\n",
       "      <td>14</td>\n",
       "      <td>NaN</td>\n",
       "      <td>1.5</td>\n",
       "      <td>120800</td>\n",
       "      <td>4.0</td>\n",
       "      <td>23110</td>\n",
       "      <td>0</td>\n",
       "    </tr>\n",
       "    <tr>\n",
       "      <th>37</th>\n",
       "      <td>16042</td>\n",
       "      <td>NaN</td>\n",
       "      <td>I have the fastest model ever.. yes you got it...</td>\n",
       "      <td>2013</td>\n",
       "      <td>Sedan</td>\n",
       "      <td>3.0</td>\n",
       "      <td>Charcoal</td>\n",
       "      <td>0</td>\n",
       "      <td>Gas</td>\n",
       "      <td>4</td>\n",
       "      <td>Others</td>\n",
       "      <td>1.8</td>\n",
       "      <td>57956</td>\n",
       "      <td>8.0</td>\n",
       "      <td>29166</td>\n",
       "      <td>1</td>\n",
       "    </tr>\n",
       "    <tr>\n",
       "      <th>...</th>\n",
       "      <td>...</td>\n",
       "      <td>...</td>\n",
       "      <td>...</td>\n",
       "      <td>...</td>\n",
       "      <td>...</td>\n",
       "      <td>...</td>\n",
       "      <td>...</td>\n",
       "      <td>...</td>\n",
       "      <td>...</td>\n",
       "      <td>...</td>\n",
       "      <td>...</td>\n",
       "      <td>...</td>\n",
       "      <td>...</td>\n",
       "      <td>...</td>\n",
       "      <td>...</td>\n",
       "      <td>...</td>\n",
       "    </tr>\n",
       "    <tr>\n",
       "      <th>6941</th>\n",
       "      <td>7406</td>\n",
       "      <td>NaN</td>\n",
       "      <td>I own Fusion.</td>\n",
       "      <td>2014,</td>\n",
       "      <td>Sedan</td>\n",
       "      <td>2.0</td>\n",
       "      <td>Charcoal</td>\n",
       "      <td>0</td>\n",
       "      <td>hyb</td>\n",
       "      <td>4</td>\n",
       "      <td>R</td>\n",
       "      <td>2.0</td>\n",
       "      <td>68700</td>\n",
       "      <td>8.0</td>\n",
       "      <td>27000</td>\n",
       "      <td>0</td>\n",
       "    </tr>\n",
       "    <tr>\n",
       "      <th>6950</th>\n",
       "      <td>8024</td>\n",
       "      <td>NaN</td>\n",
       "      <td>Elantra</td>\n",
       "      <td>10years old</td>\n",
       "      <td>Sedan</td>\n",
       "      <td>NaN</td>\n",
       "      <td>Metallic</td>\n",
       "      <td>528</td>\n",
       "      <td>Gas</td>\n",
       "      <td>14</td>\n",
       "      <td>Auto</td>\n",
       "      <td>0.0</td>\n",
       "      <td>140765</td>\n",
       "      <td>4.0</td>\n",
       "      <td>16480</td>\n",
       "      <td>0</td>\n",
       "    </tr>\n",
       "    <tr>\n",
       "      <th>6957</th>\n",
       "      <td>538</td>\n",
       "      <td>NaN</td>\n",
       "      <td>Camry</td>\n",
       "      <td>1-1-2013</td>\n",
       "      <td>Jeep</td>\n",
       "      <td>NaN</td>\n",
       "      <td>Jet Black</td>\n",
       "      <td>779</td>\n",
       "      <td>Electric Hybrid</td>\n",
       "      <td>&lt;NA&gt;</td>\n",
       "      <td>Auto</td>\n",
       "      <td>2.5</td>\n",
       "      <td>493571</td>\n",
       "      <td>12.0</td>\n",
       "      <td>392</td>\n",
       "      <td>0</td>\n",
       "    </tr>\n",
       "    <tr>\n",
       "      <th>6964</th>\n",
       "      <td>1708</td>\n",
       "      <td>NaN</td>\n",
       "      <td>Elantra</td>\n",
       "      <td>2013</td>\n",
       "      <td>Sedan</td>\n",
       "      <td>8.0</td>\n",
       "      <td>Metallic</td>\n",
       "      <td>0</td>\n",
       "      <td>Gas</td>\n",
       "      <td>4</td>\n",
       "      <td>Others</td>\n",
       "      <td>1.8</td>\n",
       "      <td>121029</td>\n",
       "      <td>12.0</td>\n",
       "      <td>3293</td>\n",
       "      <td>0</td>\n",
       "    </tr>\n",
       "    <tr>\n",
       "      <th>6972</th>\n",
       "      <td>1602</td>\n",
       "      <td>NaN</td>\n",
       "      <td>Focus SE</td>\n",
       "      <td>9years old</td>\n",
       "      <td>Hatchback</td>\n",
       "      <td>5.0</td>\n",
       "      <td>Metallic</td>\n",
       "      <td>765</td>\n",
       "      <td>NaN</td>\n",
       "      <td>14</td>\n",
       "      <td>Auto</td>\n",
       "      <td>2.0</td>\n",
       "      <td>85985</td>\n",
       "      <td>NaN</td>\n",
       "      <td>11917</td>\n",
       "      <td>0</td>\n",
       "    </tr>\n",
       "  </tbody>\n",
       "</table>\n",
       "<p>640 rows × 16 columns</p>\n",
       "</div>"
      ],
      "text/plain": [
       "         ID Brand                                       VehicleModel  \\\n",
       "0      2624   NaN  I have the fastest model ever.. yes you got it...   \n",
       "6       605   NaN  I have the fastest model ever.. yes you got it...   \n",
       "23     5580   NaN                                       I own Focus.   \n",
       "24    11866   NaN                 my model which is Aqua is the best   \n",
       "37    16042   NaN  I have the fastest model ever.. yes you got it...   \n",
       "...     ...   ...                                                ...   \n",
       "6941   7406   NaN                                      I own Fusion.   \n",
       "6950   8024   NaN                                            Elantra   \n",
       "6957    538   NaN                                              Camry   \n",
       "6964   1708   NaN                                            Elantra   \n",
       "6972   1602   NaN                                           Focus SE   \n",
       "\n",
       "     ManufacturingYear       Type  rating          color  Duty  \\\n",
       "0                 2017      Sedan     0.0            NaN  1249   \n",
       "6                 1999      Sedan     2.0  Sapphire Blue     0   \n",
       "23               2015+  Hatchback     NaN            NaN     0   \n",
       "24               2012\"  Hatchback     6.0            NaN   503   \n",
       "37                2013      Sedan     3.0       Charcoal     0   \n",
       "...                ...        ...     ...            ...   ...   \n",
       "6941             2014,      Sedan     2.0       Charcoal     0   \n",
       "6950       10years old      Sedan     NaN       Metallic   528   \n",
       "6957          1-1-2013       Jeep     NaN      Jet Black   779   \n",
       "6964              2013      Sedan     8.0       Metallic     0   \n",
       "6972        9years old  Hatchback     5.0       Metallic   765   \n",
       "\n",
       "                 fuel  CylinderCount type of gear  capacity  Odometer  \\\n",
       "0                 Gas              4            R       2.5     75492   \n",
       "6                 Gas              4       Manual       2.0    318406   \n",
       "23                NaN              4       Manual       2.0     21000   \n",
       "24                NaN             14          NaN       1.5    120800   \n",
       "37                Gas              4       Others       1.8     57956   \n",
       "...               ...            ...          ...       ...       ...   \n",
       "6941              hyb              4            R       2.0     68700   \n",
       "6950              Gas             14         Auto       0.0    140765   \n",
       "6957  Electric Hybrid           <NA>         Auto       2.5    493571   \n",
       "6964              Gas              4       Others       1.8    121029   \n",
       "6972              NaN             14         Auto       2.0     85985   \n",
       "\n",
       "      Air_bag  price  turbo  \n",
       "0         NaN  21012      0  \n",
       "6         6.0   6586      0  \n",
       "23       10.0  18189      0  \n",
       "24        4.0  23110      0  \n",
       "37        8.0  29166      1  \n",
       "...       ...    ...    ...  \n",
       "6941      8.0  27000      0  \n",
       "6950      4.0  16480      0  \n",
       "6957     12.0    392      0  \n",
       "6964     12.0   3293      0  \n",
       "6972      NaN  11917      0  \n",
       "\n",
       "[640 rows x 16 columns]"
      ]
     },
     "execution_count": 196,
     "metadata": {},
     "output_type": "execute_result"
    }
   ],
   "source": [
    "dataframe[dataframe['Brand'].isna() & data['VehicleModel'].notna()]"
   ]
  },
  {
   "cell_type": "code",
   "execution_count": 197,
   "id": "5c149e48-9c85-4f6a-8eaf-7d18aee7e68c",
   "metadata": {},
   "outputs": [
    {
     "data": {
      "text/html": [
       "<div>\n",
       "<style scoped>\n",
       "    .dataframe tbody tr th:only-of-type {\n",
       "        vertical-align: middle;\n",
       "    }\n",
       "\n",
       "    .dataframe tbody tr th {\n",
       "        vertical-align: top;\n",
       "    }\n",
       "\n",
       "    .dataframe thead th {\n",
       "        text-align: right;\n",
       "    }\n",
       "</style>\n",
       "<table border=\"1\" class=\"dataframe\">\n",
       "  <thead>\n",
       "    <tr style=\"text-align: right;\">\n",
       "      <th></th>\n",
       "      <th>ID</th>\n",
       "      <th>Brand</th>\n",
       "      <th>VehicleModel</th>\n",
       "      <th>ManufacturingYear</th>\n",
       "      <th>Type</th>\n",
       "      <th>rating</th>\n",
       "      <th>color</th>\n",
       "      <th>Duty</th>\n",
       "      <th>fuel</th>\n",
       "      <th>CylinderCount</th>\n",
       "      <th>type of gear</th>\n",
       "      <th>capacity</th>\n",
       "      <th>Odometer</th>\n",
       "      <th>Air_bag</th>\n",
       "      <th>price</th>\n",
       "      <th>turbo</th>\n",
       "    </tr>\n",
       "  </thead>\n",
       "  <tbody>\n",
       "    <tr>\n",
       "      <th>19</th>\n",
       "      <td>1084</td>\n",
       "      <td>lexus</td>\n",
       "      <td>NaN</td>\n",
       "      <td>2015</td>\n",
       "      <td>Jeep</td>\n",
       "      <td>2.0</td>\n",
       "      <td>NaN</td>\n",
       "      <td>603</td>\n",
       "      <td>Electric Hybrid</td>\n",
       "      <td>6</td>\n",
       "      <td>Others</td>\n",
       "      <td>3.5</td>\n",
       "      <td>143619</td>\n",
       "      <td>12.0</td>\n",
       "      <td>13956</td>\n",
       "      <td>0</td>\n",
       "    </tr>\n",
       "    <tr>\n",
       "      <th>36</th>\n",
       "      <td>14019</td>\n",
       "      <td>HONDA</td>\n",
       "      <td>NaN</td>\n",
       "      <td>2017*</td>\n",
       "      <td>Hatchback</td>\n",
       "      <td>0.0</td>\n",
       "      <td>Metallic</td>\n",
       "      <td>691</td>\n",
       "      <td>Gas</td>\n",
       "      <td>4</td>\n",
       "      <td>Gear</td>\n",
       "      <td>1.3</td>\n",
       "      <td>100940</td>\n",
       "      <td>4.0</td>\n",
       "      <td>20372</td>\n",
       "      <td>0</td>\n",
       "    </tr>\n",
       "    <tr>\n",
       "      <th>50</th>\n",
       "      <td>4898</td>\n",
       "      <td>DAEWOO</td>\n",
       "      <td>NaN</td>\n",
       "      <td>2009&amp;</td>\n",
       "      <td>Sedan</td>\n",
       "      <td>3.0</td>\n",
       "      <td>Metallic</td>\n",
       "      <td>790</td>\n",
       "      <td>Gas</td>\n",
       "      <td>4</td>\n",
       "      <td>Others</td>\n",
       "      <td>1.6</td>\n",
       "      <td>91930</td>\n",
       "      <td>4.0</td>\n",
       "      <td>3763</td>\n",
       "      <td>0</td>\n",
       "    </tr>\n",
       "    <tr>\n",
       "      <th>110</th>\n",
       "      <td>2202</td>\n",
       "      <td>toyota</td>\n",
       "      <td>NaN</td>\n",
       "      <td>1997</td>\n",
       "      <td>Minivan</td>\n",
       "      <td>NaN</td>\n",
       "      <td>Metallic</td>\n",
       "      <td>4321</td>\n",
       "      <td>Gas</td>\n",
       "      <td>4</td>\n",
       "      <td>Auto</td>\n",
       "      <td>2.4</td>\n",
       "      <td>230000</td>\n",
       "      <td>2.0</td>\n",
       "      <td>3150</td>\n",
       "      <td>0</td>\n",
       "    </tr>\n",
       "    <tr>\n",
       "      <th>111</th>\n",
       "      <td>2061</td>\n",
       "      <td>MERCEDES-BENZ is the best</td>\n",
       "      <td>NaN</td>\n",
       "      <td>2016</td>\n",
       "      <td>Sedan</td>\n",
       "      <td>2.0</td>\n",
       "      <td>NaN</td>\n",
       "      <td>0</td>\n",
       "      <td>Gas</td>\n",
       "      <td>14</td>\n",
       "      <td>Others</td>\n",
       "      <td>2.0</td>\n",
       "      <td>50552</td>\n",
       "      <td>12.0</td>\n",
       "      <td>549</td>\n",
       "      <td>0</td>\n",
       "    </tr>\n",
       "    <tr>\n",
       "      <th>...</th>\n",
       "      <td>...</td>\n",
       "      <td>...</td>\n",
       "      <td>...</td>\n",
       "      <td>...</td>\n",
       "      <td>...</td>\n",
       "      <td>...</td>\n",
       "      <td>...</td>\n",
       "      <td>...</td>\n",
       "      <td>...</td>\n",
       "      <td>...</td>\n",
       "      <td>...</td>\n",
       "      <td>...</td>\n",
       "      <td>...</td>\n",
       "      <td>...</td>\n",
       "      <td>...</td>\n",
       "      <td>...</td>\n",
       "    </tr>\n",
       "    <tr>\n",
       "      <th>6954</th>\n",
       "      <td>12166</td>\n",
       "      <td>hyundai</td>\n",
       "      <td>NaN</td>\n",
       "      <td>2013</td>\n",
       "      <td>Sedan</td>\n",
       "      <td>3.0</td>\n",
       "      <td>Pearl White</td>\n",
       "      <td>751</td>\n",
       "      <td>Electric Hybrid</td>\n",
       "      <td>4</td>\n",
       "      <td>R</td>\n",
       "      <td>2.4</td>\n",
       "      <td>0</td>\n",
       "      <td>0.0</td>\n",
       "      <td>706</td>\n",
       "      <td>0</td>\n",
       "    </tr>\n",
       "    <tr>\n",
       "      <th>6956</th>\n",
       "      <td>3550</td>\n",
       "      <td>hyundai</td>\n",
       "      <td>NaN</td>\n",
       "      <td>2014</td>\n",
       "      <td>Sedan</td>\n",
       "      <td>0.0</td>\n",
       "      <td>NaN</td>\n",
       "      <td>639</td>\n",
       "      <td>other</td>\n",
       "      <td>4</td>\n",
       "      <td>Others</td>\n",
       "      <td>2.0</td>\n",
       "      <td>531500</td>\n",
       "      <td>4.0</td>\n",
       "      <td>6429</td>\n",
       "      <td>0</td>\n",
       "    </tr>\n",
       "    <tr>\n",
       "      <th>6980</th>\n",
       "      <td>12577</td>\n",
       "      <td>toyota</td>\n",
       "      <td>NaN</td>\n",
       "      <td>2012#</td>\n",
       "      <td>Hatchback</td>\n",
       "      <td>7.0</td>\n",
       "      <td>NaN</td>\n",
       "      <td>0</td>\n",
       "      <td>Electric Hybrid</td>\n",
       "      <td>&lt;NA&gt;</td>\n",
       "      <td>Auto</td>\n",
       "      <td>1.5</td>\n",
       "      <td>159000</td>\n",
       "      <td>2.0</td>\n",
       "      <td>14897</td>\n",
       "      <td>0</td>\n",
       "    </tr>\n",
       "    <tr>\n",
       "      <th>6993</th>\n",
       "      <td>13158</td>\n",
       "      <td>MITSUBISHI</td>\n",
       "      <td>NaN</td>\n",
       "      <td>1997</td>\n",
       "      <td>Jeep</td>\n",
       "      <td>5.0</td>\n",
       "      <td>NaN</td>\n",
       "      <td>0</td>\n",
       "      <td>Gas</td>\n",
       "      <td>4</td>\n",
       "      <td>Auto</td>\n",
       "      <td>3.5</td>\n",
       "      <td>120000</td>\n",
       "      <td>2.0</td>\n",
       "      <td>11604</td>\n",
       "      <td>0</td>\n",
       "    </tr>\n",
       "    <tr>\n",
       "      <th>6997</th>\n",
       "      <td>7223</td>\n",
       "      <td>toyota</td>\n",
       "      <td>NaN</td>\n",
       "      <td>12years old</td>\n",
       "      <td>Sedan</td>\n",
       "      <td>0.0</td>\n",
       "      <td>NaN</td>\n",
       "      <td>781</td>\n",
       "      <td>Electric Hybrid</td>\n",
       "      <td>4</td>\n",
       "      <td>Auto</td>\n",
       "      <td>2.5</td>\n",
       "      <td>314373</td>\n",
       "      <td>12.0</td>\n",
       "      <td>392</td>\n",
       "      <td>0</td>\n",
       "    </tr>\n",
       "  </tbody>\n",
       "</table>\n",
       "<p>511 rows × 16 columns</p>\n",
       "</div>"
      ],
      "text/plain": [
       "         ID                      Brand VehicleModel ManufacturingYear  \\\n",
       "19     1084                      lexus          NaN              2015   \n",
       "36    14019                      HONDA          NaN             2017*   \n",
       "50     4898                     DAEWOO          NaN             2009&   \n",
       "110    2202                     toyota          NaN              1997   \n",
       "111    2061  MERCEDES-BENZ is the best          NaN              2016   \n",
       "...     ...                        ...          ...               ...   \n",
       "6954  12166                    hyundai          NaN              2013   \n",
       "6956   3550                    hyundai          NaN              2014   \n",
       "6980  12577                     toyota          NaN             2012#   \n",
       "6993  13158                 MITSUBISHI          NaN              1997   \n",
       "6997   7223                     toyota          NaN       12years old   \n",
       "\n",
       "           Type  rating        color  Duty             fuel  CylinderCount  \\\n",
       "19         Jeep     2.0          NaN   603  Electric Hybrid              6   \n",
       "36    Hatchback     0.0     Metallic   691              Gas              4   \n",
       "50        Sedan     3.0     Metallic   790              Gas              4   \n",
       "110     Minivan     NaN     Metallic  4321              Gas              4   \n",
       "111       Sedan     2.0          NaN     0              Gas             14   \n",
       "...         ...     ...          ...   ...              ...            ...   \n",
       "6954      Sedan     3.0  Pearl White   751  Electric Hybrid              4   \n",
       "6956      Sedan     0.0          NaN   639            other              4   \n",
       "6980  Hatchback     7.0          NaN     0  Electric Hybrid           <NA>   \n",
       "6993       Jeep     5.0          NaN     0              Gas              4   \n",
       "6997      Sedan     0.0          NaN   781  Electric Hybrid              4   \n",
       "\n",
       "     type of gear  capacity  Odometer  Air_bag  price  turbo  \n",
       "19         Others       3.5    143619     12.0  13956      0  \n",
       "36           Gear       1.3    100940      4.0  20372      0  \n",
       "50         Others       1.6     91930      4.0   3763      0  \n",
       "110          Auto       2.4    230000      2.0   3150      0  \n",
       "111        Others       2.0     50552     12.0    549      0  \n",
       "...           ...       ...       ...      ...    ...    ...  \n",
       "6954            R       2.4         0      0.0    706      0  \n",
       "6956       Others       2.0    531500      4.0   6429      0  \n",
       "6980         Auto       1.5    159000      2.0  14897      0  \n",
       "6993         Auto       3.5    120000      2.0  11604      0  \n",
       "6997         Auto       2.5    314373     12.0    392      0  \n",
       "\n",
       "[511 rows x 16 columns]"
      ]
     },
     "execution_count": 197,
     "metadata": {},
     "output_type": "execute_result"
    }
   ],
   "source": [
    "dataframe[dataframe['Brand'].notna() & data['VehicleModel'].isna()]"
   ]
  },
  {
   "cell_type": "code",
   "execution_count": 199,
   "id": "4cde06be-0376-49ff-9729-77812d040ac2",
   "metadata": {},
   "outputs": [
    {
     "data": {
      "text/plain": [
       "163"
      ]
     },
     "execution_count": 199,
     "metadata": {},
     "output_type": "execute_result"
    }
   ],
   "source": [
    "def fill_missing_brand(dataframe):\n",
    "    brand_mapping = dataframe.dropna(subset=['Brand', 'VehicleModel']).set_index('VehicleModel')['Brand'].to_dict()\n",
    "    \n",
    "    dataframe['Brand'] = dataframe.apply(\n",
    "        lambda row: brand_mapping.get(row['VehicleModel'], row['Brand'])\n",
    "        if pd.isna(row['Brand']) else row['Brand'],\n",
    "        axis=1)\n",
    "    \n",
    "    return dataframe\n",
    "dataframe = fill_missing_brand(dataframe)\n",
    "dataframe['Brand'].isna().sum()"
   ]
  },
  {
   "cell_type": "code",
   "execution_count": null,
   "id": "6d7ee79f-d09d-4ffe-b25c-7b2e89a35add",
   "metadata": {},
   "outputs": [],
   "source": []
  }
 ],
 "metadata": {
  "kernelspec": {
   "display_name": "Python 3 (ipykernel)",
   "language": "python",
   "name": "python3"
  },
  "language_info": {
   "codemirror_mode": {
    "name": "ipython",
    "version": 3
   },
   "file_extension": ".py",
   "mimetype": "text/x-python",
   "name": "python",
   "nbconvert_exporter": "python",
   "pygments_lexer": "ipython3",
   "version": "3.12.5"
  }
 },
 "nbformat": 4,
 "nbformat_minor": 5
}
